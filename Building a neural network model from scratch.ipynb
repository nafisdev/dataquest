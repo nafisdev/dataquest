{
 "cells": [
  {
   "cell_type": "markdown",
   "metadata": {
    "collapsed": true
   },
   "source": [
    "# Building A Handwritten Digits Classifier\n",
    "---\n",
    "In this Guided Project, we'll explore the effectiveness of deep, feedforward neural networks at classifying images."
   ]
  },
  {
   "cell_type": "code",
   "execution_count": 32,
   "metadata": {},
   "outputs": [],
   "source": [
    "# Scikit-learn contains a number of datasets pre-loaded with the library, within the namespace of sklearn.datasets. \n",
    "# The load_digits() function returns a copy of the hand-written digits dataset from UCI.\n",
    "from sklearn.datasets import load_digits\n",
    "import pandas as pd\n",
    "import numpy as np\n",
    "import matplotlib.pyplot as plt\n",
    "%matplotlib inline "
   ]
  },
  {
   "cell_type": "markdown",
   "metadata": {},
   "source": [
    "## Read in dataset as Dataframe"
   ]
  },
  {
   "cell_type": "code",
   "execution_count": 33,
   "metadata": {},
   "outputs": [],
   "source": [
    "# Create a dataframe that contains the handwritten_digits features and a series that contains corresponding labels\n",
    "handwritten_digits_features, handwritten_digits_labels = load_digits(return_X_y= True)\n",
    "handwritten_digits_features = pd.DataFrame(handwritten_digits_features)\n",
    "handwritten_digits_labels = pd.Series(handwritten_digits_labels)"
   ]
  },
  {
   "cell_type": "code",
   "execution_count": 34,
   "metadata": {},
   "outputs": [
    {
     "data": {
      "text/plain": [
       "(    0    1    2     3     4     5    6    7    8    9  ...    54   55   56  \\\n",
       " 0  0.0  0.0  5.0  13.0   9.0   1.0  0.0  0.0  0.0  0.0 ...   0.0  0.0  0.0   \n",
       " 1  0.0  0.0  0.0  12.0  13.0   5.0  0.0  0.0  0.0  0.0 ...   0.0  0.0  0.0   \n",
       " 2  0.0  0.0  0.0   4.0  15.0  12.0  0.0  0.0  0.0  0.0 ...   5.0  0.0  0.0   \n",
       " 3  0.0  0.0  7.0  15.0  13.0   1.0  0.0  0.0  0.0  8.0 ...   9.0  0.0  0.0   \n",
       " 4  0.0  0.0  0.0   1.0  11.0   0.0  0.0  0.0  0.0  0.0 ...   0.0  0.0  0.0   \n",
       " \n",
       "     57   58    59    60    61   62   63  \n",
       " 0  0.0  6.0  13.0  10.0   0.0  0.0  0.0  \n",
       " 1  0.0  0.0  11.0  16.0  10.0  0.0  0.0  \n",
       " 2  0.0  0.0   3.0  11.0  16.0  9.0  0.0  \n",
       " 3  0.0  7.0  13.0  13.0   9.0  0.0  0.0  \n",
       " 4  0.0  0.0   2.0  16.0   4.0  0.0  0.0  \n",
       " \n",
       " [5 rows x 64 columns], 0    0\n",
       " 1    1\n",
       " 2    2\n",
       " 3    3\n",
       " 4    4\n",
       " dtype: int64)"
      ]
     },
     "execution_count": 34,
     "metadata": {},
     "output_type": "execute_result"
    }
   ],
   "source": [
    "handwritten_digits_features.head(), handwritten_digits_labels.head()"
   ]
  },
  {
   "cell_type": "markdown",
   "metadata": {},
   "source": [
    "**In the handwritten_digits_features we see that each image (as each row) has 64 grayscale points, which means they were 8\\*8 images. **"
   ]
  },
  {
   "cell_type": "markdown",
   "metadata": {},
   "source": [
    "## Visualize a few sample data "
   ]
  },
  {
   "cell_type": "code",
   "execution_count": 35,
   "metadata": {
    "scrolled": true
   },
   "outputs": [
    {
     "data": {
      "image/png": "[encoded data removed]",
      "text/plain": [
       "<matplotlib.figure.Figure at 0x7f1936d31a90>"
      ]
     },
     "metadata": {},
     "output_type": "display_data"
    }
   ],
   "source": [
    "# Transform row 0, 100, 200, 300, 1000, 1100, 1200, 1300 to 8*8 pixel grid and visualize the data\n",
    "rows = [0, 100, 200, 300, 400, 500, 600, 700, 800, 900, 1000, 1100, 1200, 1300, 1400, 1500]\n",
    "fig = plt.figure(figsize = (3, 3))\n",
    "i = 1\n",
    "for row in rows:\n",
    "    # Transform selected datapoint to np array then reshape to original grid\n",
    "    img = handwritten_digits_features.iloc[row].values.reshape(8, 8) \n",
    "    ax = fig.add_subplot(4, 4, i)\n",
    "    ax.imshow(img, cmap = 'gray_r')\n",
    "    ax.get_xaxis().set_visible(False)\n",
    "    ax.get_yaxis().set_visible(False)\n",
    "    i+=1  "
   ]
  },
  {
   "cell_type": "markdown",
   "metadata": {},
   "source": [
    "## Experiment with KNeighborsClassifier"
   ]
  },
  {
   "cell_type": "code",
   "execution_count": 36,
   "metadata": {},
   "outputs": [],
   "source": [
    "# Training k-nearest neighbors models.\n",
    "from sklearn.neighbors import KNeighborsClassifier\n",
    "from sklearn.model_selection import KFold\n",
    "from sklearn.metrics import accuracy_score\n",
    "\n",
    "# Performs 4-fold cross validation using k-nearest neighbors\n",
    "def cross_validate(features, labels, n):\n",
    "    kf = KFold(n_splits = 4, random_state = 1)\n",
    "    scores = []\n",
    "\n",
    "    # Split data\n",
    "    for train_idx, test_idx in kf.split(features, labels):\n",
    "        X_train, X_test = features.loc[train_idx], features.loc[test_idx]\n",
    "        y_train, y_test = labels.loc[train_idx], labels.loc[test_idx]\n",
    "        # Train & predict with each fold \n",
    "        knn = KNeighborsClassifier(n_neighbors = n)\n",
    "        knn.fit(X_train, y_train)\n",
    "        predictions = knn.predict(X_test)\n",
    "        accuracy = accuracy_score(y_test, predictions, normalize = True)\n",
    "        scores.append(accuracy)\n",
    "    return scores    "
   ]
  },
  {
   "cell_type": "code",
   "execution_count": 37,
   "metadata": {},
   "outputs": [],
   "source": [
    "# Experiment average recall score with different k(s)\n",
    "k_num = range(1, 16)\n",
    "avg_accuracy = []\n",
    "for n in k_num:\n",
    "    scores = cross_validate(handwritten_digits_features, handwritten_digits_labels, n)\n",
    "    avg_accuracy.append(np.mean(scores))"
   ]
  },
  {
   "cell_type": "code",
   "execution_count": 38,
   "metadata": {
    "scrolled": true
   },
   "outputs": [
    {
     "data": {
      "text/plain": [
       "(1, 15)"
      ]
     },
     "execution_count": 38,
     "metadata": {},
     "output_type": "execute_result"
    },
    {
     "data": {
      "image/png": "[encoded data removed]",
      "text/plain": [
       "<matplotlib.figure.Figure at 0x7f1936d77f98>"
      ]
     },
     "metadata": {},
     "output_type": "display_data"
    }
   ],
   "source": [
    "# Visualize K, recall score correlation\n",
    "plt.plot(k_num, avg_accuracy)\n",
    "plt.xlim(1, 15)"
   ]
  },
  {
   "cell_type": "markdown",
   "metadata": {},
   "source": [
    "**While the accuracy score is not bad, there are a few downsides to using k-nearest neighbors:**\n",
    "* high memory usage (for each new unseen observation, many comparisons need to be made to seen observations)\n",
    "* no model representation to debug and explore\n",
    "\n",
    "---\n",
    "\n",
    "Let's now try a neural network with a single hidden layer. Use the MLPClassifier package from scikit-learn."
   ]
  },
  {
   "cell_type": "markdown",
   "metadata": {
    "collapsed": true
   },
   "source": [
    "## Build a Neural Network model from scratch \n",
    "*** -- based on guides from [Coursera Machine Learning course by Andrew Ng from Stanford](https://www.coursera.org/learn/machine-learning?) ***"
   ]
  },
  {
   "cell_type": "markdown",
   "metadata": {},
   "source": [
    "### Split data"
   ]
  },
  {
   "cell_type": "code",
   "execution_count": 39,
   "metadata": {
    "collapsed": true
   },
   "outputs": [],
   "source": [
    "# Split data into train and test sets\n",
    "from sklearn.model_selection import train_test_split\n",
    "# Split for train and test\n",
    "X_train, X_test, y_train, y_test = train_test_split(handwritten_digits_features, \n",
    "                                                    handwritten_digits_labels, \n",
    "                                                   test_size = 0.2,\n",
    "                                                   random_state = 1)\n",
    "\n",
    "# Split for final result of train(60%) and val(20%)\n",
    "X_train, X_val, y_train, y_val = train_test_split(X_train, y_train,\n",
    "                                                 test_size = 0.25, \n",
    "                                                 random_state = 1)"
   ]
  },
  {
   "cell_type": "markdown",
   "metadata": {},
   "source": [
    "### Feedforward Propagation"
   ]
  },
  {
   "cell_type": "markdown",
   "metadata": {},
   "source": [
    "#### Activation function"
   ]
  },
  {
   "cell_type": "code",
   "execution_count": 40,
   "metadata": {},
   "outputs": [],
   "source": [
    "# Vectorized Sigmoid function\n",
    "def sigmoid(X):\n",
    "    return 1/(1+np.exp(-X))"
   ]
  },
  {
   "cell_type": "markdown",
   "metadata": {},
   "source": [
    "#### Randomly initialize the parameters for symmetry breaking\n",
    "---\n",
    "When training neural networks, it is important to randomly initialize the parameters for symmetry breaking. One effective strategy for random initialization is to randomly select values for $\\Theta^{l}$ uniformly in the range $[-\\epsilon_{init}, \\epsilon_{init}]$.<sup>1, 2</sup> This range of values ensures that the parameters are kept small and makes the learning more efficient.\n",
    "\n",
    "---\n",
    "1. One effective strategy for choosing ε_init is to base it on the number of units in the\n",
    "network. A good choice of $ \\epsilon_{init} $ is  $ \\epsilon_{init}  = \\frac{\\sqrt{6}}{\\sqrt{L_{in}+L_{out}}} $, where $L_{in} = s_{l} $ and $L_{out}= s_{l+1}$ are\n",
    "the number of units(neurons) in the layers adjacent to $\\Theta^{l}$.\n",
    "<br><br>\n",
    "2. For $ x\\in[0, 1] $, $x\\times2\\times\\epsilon_{init}-\\epsilon_{init}\\in[-\\epsilon_{init}, \\epsilon_{init}] $"
   ]
  },
  {
   "cell_type": "code",
   "execution_count": 41,
   "metadata": {
    "collapsed": true
   },
   "outputs": [],
   "source": [
    "# Randomly initialize weights with parameter hidden_layer_size in list datatype\n",
    "# Returns the same weights in matrix and vector form\n",
    "\n",
    "def rand_weights_init(X, n_labels, hidden_layer_sizes):\n",
    "    # Number of neurons in input layer\n",
    "    input_layer_size = X.shape[1]\n",
    "    \n",
    "    # Compute number of neurons in all layers in the nueral network model \n",
    "    all_layers = [input_layer_size] \n",
    "    all_layers = all_layers+hidden_layer_sizes+ [n_labels]\n",
    "\n",
    "    n_layers = len(all_layers)\n",
    "    \n",
    "    # Initialize weights for all layers \n",
    "    weights = []\n",
    "    \n",
    "    # Initialize unrolled weights for later use\n",
    "    weights_vec = []\n",
    "    \n",
    "    for n in range(n_layers-1):\n",
    "        in_num = all_layers[n]\n",
    "        out_num = all_layers[n+1]\n",
    "        \n",
    "        # Initialize epsilon\n",
    "        epsilon_init = np.log(6)/np.log(in_num + out_num)\n",
    " \n",
    "        np.random.seed(0)\n",
    "        # w is set to a matrix of size(out_num, 1 + in_num) as the first column of w handles the \"bias\" terms\n",
    "        w = np.random.rand(out_num, 1 + in_num) * 2 * epsilon_init - epsilon_init\n",
    "        \n",
    "        # Unroll w for later use in fmin_cg function to minimize cost\n",
    "        w_vec = np.concatenate(w)\n",
    "        \n",
    "        weights.append(w)\n",
    "        weights_vec.append(w_vec)\n",
    "        \n",
    "    print('Number of weights in matrix: ', len(weights))    \n",
    "                     \n",
    "    return np.asarray(weights), np.concatenate(np.asarray(weights_vec))"
   ]
  },
  {
   "cell_type": "code",
   "execution_count": 42,
   "metadata": {},
   "outputs": [
    {
     "name": "stdout",
     "output_type": "stream",
     "text": [
      "Number of weights in matrix:  2\n",
      "Theta1 shape:  (8, 65) \n",
      " Theta2 shape:  (10, 9)\n",
      "Unrolled weights:  (610,)\n"
     ]
    }
   ],
   "source": [
    "# Test run with weights initialization: 1 hidden layer with 8 neurons\n",
    "weights, weights_vector = rand_weights_init(X_train, 10, [8])\n",
    "print('Theta1 shape: ', weights[0].shape, '\\n','Theta2 shape: ', weights[1].shape)\n",
    "print('Unrolled weights: ', weights_vector.shape)"
   ]
  },
  {
   "cell_type": "code",
   "execution_count": 43,
   "metadata": {},
   "outputs": [
    {
     "name": "stdout",
     "output_type": "stream",
     "text": [
      "Number of weights in matrix:  3\n",
      "Theta1 shape:  (8, 65) \n",
      " Theta2 shape:  (8, 9) \n",
      " Theta3 shape:  (10, 9)\n",
      "Unrolled weights:  (682,)\n"
     ]
    }
   ],
   "source": [
    "# Test run with weights initialization: 2 hidden layer both with 8 neurons\n",
    "weights2, weights_vector2 = rand_weights_init(X_train, 10, [8, 8])\n",
    "print('Theta1 shape: ', weights2[0].shape, \n",
    "      '\\n','Theta2 shape: ', weights2[1].shape, \n",
    "      '\\n','Theta3 shape: ', weights2[2].shape)\n",
    "print('Unrolled weights: ', weights_vector2.shape)"
   ]
  },
  {
   "cell_type": "markdown",
   "metadata": {},
   "source": [
    "#### Regularized Cost function of Neural Network with Sigmoid function\n",
    "---\n",
    "The cost function for the neural network without regularization is:\n",
    "$ J(\\theta)= \\frac{1}{m}\\sum\\limits_{i=1}^m\\sum\\limits_{k=1}^K[−y^{(i)}_{k}log((h_\\theta(x^{(i)}))_k)−(1−y^{(i)}_{k})log(1−(h_\\theta(x^{(i)}))_k)] $, where $m$ is the number of samples, $K$ is the number of labels, $h_\\theta(x)$ is the hypothesis, in our case the Sigmoid function.\n",
    "<br><br>\n",
    "\n",
    "The regularized cost function adds the regularization terms:\n",
    "$ \\frac{\\lambda}{2m}\\sum\\limits_{l = 1}^{L-1}\\sum\\limits_{no=1}^{N_{out}}\\sum\\limits_{ni=1}^{N_{in}}(\\Theta^{(l)}_{no, ni})^{2} $, where L is the total number of layers in the model, $N_{in}$ and $N_{out}$ are\n",
    "the number of units(neurons) in the layers adjacent to $\\Theta^{l}$"
   ]
  },
  {
   "cell_type": "code",
   "execution_count": 44,
   "metadata": {},
   "outputs": [],
   "source": [
    "# Unregularized cost function\n",
    "def cost_func(y_prob, y_actual, sample_size):\n",
    "\n",
    "    # Convert y_actual into dummy/indicator variables\n",
    "    y = y_actual.astype('category').copy()\n",
    "    \n",
    "    \"\"\"\n",
    "    Note to specify dtype when converting categorical dataframe to numpy array \n",
    "    If dtype not specified, -y will be operated on string type where if y = 1, -y = 255\n",
    "    \"\"\"\n",
    "    y = np.asarray(pd.get_dummies(y_actual), dtype = np.int64)\n",
    "\n",
    "#     # Convert y_pred into dummy/indicator variables \n",
    "#     # Step 1: Initialize y_pred dummie form with all zeros    \n",
    "#     h = np.zeros(y.shape)\n",
    "    \n",
    "#     # Step 2: Replace zeros with ones using y_pred as indices \n",
    "#     rows = np.arange(h.shape[0])\n",
    "#     h[rows, y_pred] = 1\n",
    "    \n",
    "    # Compute cost \n",
    "    cost = np.sum(-y*np.log10(y_prob)-(1-y)*np.log10(1-y_prob))/sample_size\n",
    "    \n",
    "    return cost"
   ]
  },
  {
   "cell_type": "markdown",
   "metadata": {},
   "source": [
    "#### Feedforward with Regularized Cost function"
   ]
  },
  {
   "cell_type": "code",
   "execution_count": 45,
   "metadata": {
    "scrolled": true
   },
   "outputs": [],
   "source": [
    "# Feedforward using sigmoid function \n",
    "def feedforward(vec_weights, hidden_layer_sizes, n_labels, X, y, alpha):\n",
    "    \n",
    "    # Define some useful variables\n",
    "    n_samples = X.shape[0]\n",
    "    input_layer_size = X.shape[1]\n",
    "    \n",
    "    # Compute number of neurons in all layers in the nueral network model     \n",
    "    all_layers = [input_layer_size] \n",
    "    all_layers = all_layers+hidden_layer_sizes+ [n_labels]\n",
    "\n",
    "#     print(all_layers)\n",
    "    \n",
    "    n_activation = len(all_layers)-1\n",
    "   \n",
    "\n",
    "    # Initialize input \n",
    "    x = np.asarray(X)\n",
    "    \n",
    "#     # Initialize output\n",
    "#     predictions = np.empty((n_samples, n_labels))\n",
    "\n",
    "    # Initialize a list of weights in matrix form \n",
    "    weights_matrix = []\n",
    "    \n",
    "    # Initialize weights without bias for regularization term\n",
    "    weights_no_bias = []\n",
    "    \n",
    "    # Initialize activaitons x for calculating 'error term' in backpropagation later\n",
    "    activations_x = []\n",
    "    \n",
    "    # Feedforward \n",
    "    for n in range(n_activation):\n",
    "        # Add bias column \n",
    "        x = np.insert(x, 0, 1, axis = 1)\n",
    "        \n",
    "        # Append activation x to activations, last activation is also the output\n",
    "        activations_x.append(x)\n",
    "        \n",
    "        # Reshape weights vector to weights matrix based on neural network structure\n",
    "        init_slice = 0\n",
    "        weights_count = (all_layers[n]+1)*all_layers[n+1]\n",
    "        weights = np.reshape(vec_weights[init_slice:(init_slice + weights_count)], (all_layers[n+1], (all_layers[n]+1)))\n",
    "        \n",
    "        # Append weights to the list of weights in matrix form \n",
    "        weights_matrix.append(weights)\n",
    "        \n",
    "        # Compute activation\n",
    "        activation = sigmoid(np.dot(x, weights.T))  \n",
    "        \n",
    "        # Assign output as the input for next layer, or as final output if loop ends \n",
    "        x = activation\n",
    "        \n",
    "        # Get weights without bias in each layerfor later calculating regularization term\n",
    "        no_bias= np.delete(weights, 0, axis = 1)\n",
    "        \n",
    "        # Unroll weights in each layer into a numpy 1d array & append to weights_no_bias\n",
    "        weights_no_bias.append(np.concatenate(no_bias))\n",
    "        \n",
    "        # Update init_slice \n",
    "        init_slice = weights_count\n",
    "        \n",
    "    # Sanity check: x as output should match the shape of predefined p\n",
    "    y_prob = x.copy()\n",
    "\n",
    "    # Assign index of the max value of each row as predictions \n",
    "    y_pred = np.argmax(y_prob, axis = 1)\n",
    "    \n",
    "    # Compute unregularized cost \n",
    "    cost = cost_func(y_prob, y, n_samples)\n",
    "    \n",
    "    # Unroll weights into a numpy 1d array\n",
    "    weights_no_bias = np.concatenate(np.array(weights_no_bias))\n",
    "    \n",
    "    # Regularization term \n",
    "    reg_term = np.sum(weights_no_bias**2)*alpha/(2*n_samples)\n",
    "    \n",
    "    # Compute regularized cost \n",
    "    reg_cost = cost + reg_term\n",
    "    \n",
    "    return reg_cost, y_prob, y_pred, activations_x, weights_matrix"
   ]
  },
  {
   "cell_type": "code",
   "execution_count": 46,
   "metadata": {
    "scrolled": true
   },
   "outputs": [
    {
     "name": "stdout",
     "output_type": "stream",
     "text": [
      "With alpha 0, the regularized cost is:  2.945120500303429\n",
      "*******************************************************\n",
      "With alpha 1, the regularized cost is:  2.9614436955038648\n",
      "*******************************************************\n",
      "With alpha 2, the regularized cost is:  2.9777668907043\n",
      "*******************************************************\n",
      "With alpha 3, the regularized cost is:  2.9940900859047357\n",
      "*******************************************************\n",
      "With alpha 4, the regularized cost is:  3.0104132811051714\n",
      "*******************************************************\n",
      "Probabilities shape:  (1077, 10)\n",
      "Predictions shape:  (1077,) predictions:  [4 4 2 ... 4 0 2]\n",
      "Activations number: 2\n",
      "Activation x1 shape (1077, 65)\n",
      "Activation x2 shape (1077, 9)\n",
      "weights 1 shape (8, 65)\n",
      "weights 2 shape (10, 9)\n"
     ]
    }
   ],
   "source": [
    "# Test feedforward with weights initialization: \n",
    "# 1 hidden layer with 8 neurons \n",
    "# from rand_weights_init test run & alpha range(5)\n",
    "\n",
    "for a in range(5):\n",
    "    reg_cost1, probabilties1, predictions1, activations_x1, weights_matrix1 = feedforward( \n",
    "                                        vec_weights = weights_vector, \n",
    "                                        n_labels=10, \n",
    "                                        X=X_train, y = y_train,\n",
    "                                        hidden_layer_sizes = [8],\n",
    "                                        alpha = a)\n",
    "    print('With alpha {}, the regularized cost is: '.format(a), reg_cost1)\n",
    "    print('*'*55)\n",
    "\n",
    "print('Probabilities shape: ', probabilties1.shape)\n",
    "print('Predictions shape: ', predictions1.shape, 'predictions: ', predictions1)\n",
    "print('Activations number:', len(activations_x1))\n",
    "print('Activation x1 shape', activations_x1[0].shape)\n",
    "print('Activation x2 shape', activations_x1[1].shape)\n",
    "print('weights 1 shape', weights_matrix1[0].shape)\n",
    "print('weights 2 shape', weights_matrix1[1].shape)"
   ]
  },
  {
   "cell_type": "code",
   "execution_count": 47,
   "metadata": {},
   "outputs": [
    {
     "name": "stdout",
     "output_type": "stream",
     "text": [
      "With alpha 0, the regularized cost is:  3.0412919452900082\n",
      "*******************************************************\n",
      "With alpha 1, the regularized cost is:  3.059339249288558\n",
      "*******************************************************\n",
      "With alpha 2, the regularized cost is:  3.077386553287108\n",
      "*******************************************************\n",
      "With alpha 3, the regularized cost is:  3.0954338572856575\n",
      "*******************************************************\n",
      "With alpha 4, the regularized cost is:  3.1134811612842075\n",
      "*******************************************************\n",
      "Probabilities shape:  (1077, 10)\n",
      "Predictions shape:  (1077,) predictions:  [2 2 2 ... 2 2 2]\n",
      "Activations x number: 3\n",
      "Activation x1 shape (1077, 65)\n",
      "Activation x2 shape (1077, 9)\n",
      "Activation x3 shape (1077, 9)\n",
      "weights 1 shape (8, 65)\n",
      "weights 2 shape (8, 9)\n",
      "weights 3 shape (10, 9)\n"
     ]
    }
   ],
   "source": [
    "# Test feedforward with weights initialization: \n",
    "# 2 hidden layer both with 8 neurons \n",
    "# from rand_weights_init test run & alpha range(5)\n",
    "\n",
    "for a in range(5):\n",
    "    reg_cost2, probabilties2, predictions2, activations_x2, weights_matrix2 = feedforward( \n",
    "                                        vec_weights = weights_vector2, \n",
    "                                        hidden_layer_sizes = [8, 8],\n",
    "                                        n_labels=10, \n",
    "                                        X=X_train, y = y_train,\n",
    "                                        alpha = a)\n",
    "    print('With alpha {}, the regularized cost is: '.format(a), reg_cost2)\n",
    "    print('*'*55)\n",
    "\n",
    "print('Probabilities shape: ', probabilties2.shape)\n",
    "print('Predictions shape: ', predictions2.shape, 'predictions: ', predictions2)\n",
    "print('Activations x number:', len(activations_x2))\n",
    "print('Activation x1 shape', activations_x2[0].shape)\n",
    "print('Activation x2 shape', activations_x2[1].shape)\n",
    "print('Activation x3 shape', activations_x2[2].shape)\n",
    "print('weights 1 shape', weights_matrix2[0].shape)\n",
    "print('weights 2 shape', weights_matrix2[1].shape)\n",
    "print('weights 3 shape', weights_matrix2[2].shape)"
   ]
  },
  {
   "cell_type": "markdown",
   "metadata": {},
   "source": [
    "### Backpropagation\n",
    "---\n",
    "***The intuition behind the backpropagation algorithm is as follows:***\n",
    "\n",
    "* Given a training example $(x^{(t)},y^{(t)})$, we will first run a “forward pass” to compute all the activations throughout the network, including the output value of the hypothesis $h_Θ(x)$. \n",
    "\n",
    "* Then, for each node $j$ in layer $l$, we would like to compute an “error term” $\\delta_j^{(l)}$ that measures how much that node was “responsible” for any errors in our output. For an output node, we can directly measure the difference between the network’s activation and the true target value, and use that to define $\\delta_j^{(output)}$. For the hidden units, you will compute $\\delta_j^{(l)}$ based on a weighted average of the error terms of the nodes in layer $(l + 1)$."
   ]
  },
  {
   "cell_type": "markdown",
   "metadata": {},
   "source": [
    "#### Derivation of the Sigmoid function (for calculating gradient of the cost function in backpropagation)\n",
    "---\n",
    "1. Sigmoid function: $ g(x) = \\frac{1}{(1+ e^{-x})} $\n",
    "<br><br>\n",
    "2. $ g(x) = \\frac{1}{(1+ e^{-x})} = (1+e^{-x})^{-1}$\n",
    "<br><br>\n",
    "\n",
    "3. Apply Chain Rule: $ g'(x) = -1\\times(1+e^{-x})^{-2}\\times(1+e^{-x})' $\n",
    "<br><br>\n",
    "4. Apply Exponential Rule $ g'(x) = -(1+e^{-x})^{-2}\\times(e^{-x}\\times(-x)') $\n",
    "<br><br>\n",
    "5. $ g'(x) = -(1+e^{-x})^{-2}\\times(e^{-x}\\times-1) $\n",
    "<br><br>\n",
    "6. $ g'(x) = \\frac{1}{(1+e^{-x})^{2}}\\times e^{-x} $\n",
    "<br><br>\n",
    "7.  $ g'(x) = \\frac{1}{(1+e^{-x})}\\times\\frac{e^{-x}}{{(1+e^{-x})}} $\n",
    "<br><br>\n",
    "8.  $ g'(x) = g(x)\\times\\frac{1+e^{-x}-1}{{(1+e^{-x})}} $\n",
    "<br><br>\n",
    "9.  $ g'(x) = g(x)\\times(1-g(x)) $"
   ]
  },
  {
   "cell_type": "code",
   "execution_count": 48,
   "metadata": {},
   "outputs": [],
   "source": [
    "# Derivative of the Sigmoid function \n",
    "def sigmoid_gradient(X):\n",
    "    return sigmoid(X)*(1-sigmoid(X))"
   ]
  },
  {
   "cell_type": "code",
   "execution_count": 49,
   "metadata": {},
   "outputs": [
    {
     "data": {
      "text/plain": [
       "0.25"
      ]
     },
     "execution_count": 49,
     "metadata": {},
     "output_type": "execute_result"
    }
   ],
   "source": [
    "# Sanity check sigmoid_gradient \n",
    "sigmoid_gradient(0)"
   ]
  },
  {
   "cell_type": "code",
   "execution_count": 50,
   "metadata": {
    "collapsed": true
   },
   "outputs": [],
   "source": [
    "\"\"\"\n",
    "Implement the backpropagation algorithm to compute the gradients of weights to obtain \n",
    "the gradient for the neural network cost function. \n",
    "\n",
    "This function returns the partial derivatives of the cost function with respect to the weights in each hidden layer, \n",
    "for later use in fmin_cg function to minimize cost.\n",
    "\"\"\"\n",
    "\n",
    "def backpropagation(vec_weights, hidden_layer_sizes, n_labels, X, y, alpha):\n",
    "    \n",
    "    reg_cost, y_prob, y_pred, activations_x, weights = feedforward(vec_weights, \n",
    "                                                                   hidden_layer_sizes, \n",
    "                                                                   n_labels, \n",
    "                                                                   X, y, alpha)\n",
    "    \n",
    "\n",
    "    \n",
    "    \n",
    "    n_activations = len(activations_x)\n",
    "    n_samples = X.shape[0]\n",
    "\n",
    "    # Turn y into dummy index \n",
    "    y = pd.get_dummies(y.astype('category'))\n",
    "    y = np.array(y, dtype = np.int64)\n",
    "    \n",
    "    # Compute 'error term' delta of the output layer\n",
    "    last_layer_weights_delta = y_prob - y\n",
    "    \n",
    "    # Initialze a list of deltas from each hidden layer\n",
    "    layer_weights_delta = []\n",
    "    \n",
    "    # Compute 'error term' delta of the hidden layers\n",
    "    for n in reversed(range(n_activations)):\n",
    "        delta = np.dot(last_layer_weights_delta.T, activations_x[n])\n",
    "        avg_delta = delta/n_samples\n",
    "\n",
    "        # Compute regularization of the corresponding weights_grad\n",
    "        weights_temp = weights[n].copy()\n",
    "\n",
    "        # Replace the first column of weights with 0 to leave out bias column in regularized cost\n",
    "        weights_temp[:,1] = 0\n",
    "        reg_term = (alpha/n_samples)*weights_temp.copy()\n",
    "\n",
    "        # Update weights_grad with regularization term \n",
    "        layer_grad_reg = avg_delta+reg_term\n",
    "        print('Theta gradient {} shape: '.format(n+1), layer_grad_reg.shape)\n",
    "        \n",
    "        # Unroll delta and insert it as the first item in weights_gradient list \n",
    "        layer_weights_delta.insert(0, np.concatenate(layer_grad_reg))\n",
    "        \n",
    "        # Update last_layer_weights_delta\n",
    "        last_layer_weights_delta = np.dot(last_layer_weights_delta, \n",
    "                                          weights[n][:,1:])*sigmoid_gradient(activations_x[n][:,1:])\n",
    "        \n",
    "    return np.concatenate(layer_weights_delta)"
   ]
  },
  {
   "cell_type": "code",
   "execution_count": 51,
   "metadata": {},
   "outputs": [
    {
     "name": "stdout",
     "output_type": "stream",
     "text": [
      "Theta gradient 4 shape:  (10, 9)\n",
      "Theta gradient 3 shape:  (8, 17)\n",
      "Theta gradient 2 shape:  (16, 9)\n",
      "Theta gradient 1 shape:  (8, 65)\n"
     ]
    },
    {
     "data": {
      "text/plain": [
       "(890,)"
      ]
     },
     "execution_count": 51,
     "metadata": {},
     "output_type": "execute_result"
    }
   ],
   "source": [
    "# Test backpropagation with feedforwd test results\n",
    "weights_grad = backpropagation(vec_weights = weights_vector2, \n",
    "                                        hidden_layer_sizes = [8, 16, 8],\n",
    "                                        n_labels=10, \n",
    "                                        X=X_train, y = y_train,\n",
    "                                        alpha = 1)\n",
    "weights_grad.shape"
   ]
  },
  {
   "cell_type": "markdown",
   "metadata": {},
   "source": [
    "### Put everything together \n",
    "---\n",
    "***Put all the functions we build so far together, as one function that computes the regularized Neural Network model cost and weights gradient***"
   ]
  },
  {
   "cell_type": "code",
   "execution_count": 52,
   "metadata": {},
   "outputs": [],
   "source": [
    "# Create a function to minize that returns the cost\n",
    "def nn_cost(vec_weights, *args):\n",
    "    \n",
    "    hidden_layer_sizes, n_labels, X, y, alpha = args\n",
    "    reg_cost, y_prob, predictions, activations_x, weights = feedforward(vec_weights, \n",
    "                                                                        hidden_layer_sizes,\n",
    "                                                                        n_labels, \n",
    "                                                                        X, y, \n",
    "                                                                        alpha)\n",
    "    \n",
    "    return reg_cost"
   ]
  },
  {
   "cell_type": "code",
   "execution_count": 53,
   "metadata": {
    "collapsed": true
   },
   "outputs": [],
   "source": [
    "# Create a function to minize that returns the weights cost gradient\n",
    "def nn_cost_gradient(vec_weights, *args):  \n",
    "    hidden_layer_sizes, n_labels, X, y, alpha = args\n",
    "    return backpropagation(vec_weights, \n",
    "                                       hidden_layer_sizes, \n",
    "                                       n_labels, \n",
    "                                       X, y, \n",
    "                                       alpha)"
   ]
  },
  {
   "cell_type": "code",
   "execution_count": 54,
   "metadata": {
    "scrolled": true
   },
   "outputs": [
    {
     "name": "stdout",
     "output_type": "stream",
     "text": [
      "Number of weights in matrix:  4\n",
      "Theta gradient 2 shape:  (10, 9)\n",
      "Theta gradient 1 shape:  (8, 65)\n",
      "2.945120500303429\n"
     ]
    }
   ],
   "source": [
    "# Initialize new weights with rand_weights_init and test nn_cost, nn_cost_gradient\n",
    "test_weights_m, test_weights_vec = rand_weights_init(X_train, 10, [8,16,8])\n",
    "\n",
    "args = ([8], 10, X_train, y_train, 0)\n",
    "cost = nn_cost(test_weights_vec, *args)\n",
    "grad = nn_cost_gradient(test_weights_vec, *args)\n",
    "print(cost)"
   ]
  },
  {
   "cell_type": "markdown",
   "metadata": {},
   "source": [
    "### Minimize the nn_cost function using a nonlinear conjugate gradient algorithm\n",
    "--- \n",
    "\n",
    "***Using the function fmin_cg from SciPy library to minimize our cost function***"
   ]
  },
  {
   "cell_type": "code",
   "execution_count": 55,
   "metadata": {
    "collapsed": true
   },
   "outputs": [],
   "source": [
    "from scipy.optimize import fmin_cg\n",
    "from scipy.optimize import minimize"
   ]
  },
  {
   "cell_type": "code",
   "execution_count": 62,
   "metadata": {
    "scrolled": true
   },
   "outputs": [
    {
     "name": "stdout",
     "output_type": "stream",
     "text": [
      "Number of weights in matrix:  2\n"
     ]
    }
   ],
   "source": [
    "weights_1_m, weights_1_v = rand_weights_init(X_train, 10, [8])"
   ]
  },
  {
   "cell_type": "code",
   "execution_count": 64,
   "metadata": {
    "scrolled": false
   },
   "outputs": [
    {
     "name": "stdout",
     "output_type": "stream",
     "text": [
      "Warning: Maximum number of iterations has been exceeded.\n",
      "         Current function value: 0.644364\n",
      "         Iterations: 100\n",
      "         Function evaluations: 110772\n",
      "         Gradient evaluations: 181\n"
     ]
    }
   ],
   "source": [
    "# Using nn_cost \n",
    "optim_weights = fmin_cg(f = nn_cost, x0 = weights_1_v, args = args, maxiter = 100)"
   ]
  },
  {
   "cell_type": "code",
   "execution_count": 65,
   "metadata": {
    "scrolled": true
   },
   "outputs": [
    {
     "data": {
      "text/plain": [
       "0.6443644765515987"
      ]
     },
     "execution_count": 65,
     "metadata": {},
     "output_type": "execute_result"
    }
   ],
   "source": [
    "nn_cost(optim_weights, *args)"
   ]
  },
  {
   "cell_type": "code",
   "execution_count": 66,
   "metadata": {},
   "outputs": [],
   "source": [
    "reg_cost_optm, y_prob_optm, predictions_optm, activations_x_optm, weights_optm = feedforward(optim_weights, \n",
    "                                                                        [8],\n",
    "                                                                        10, \n",
    "                                                                        X_train, y_train, \n",
    "                                                                        alpha=1)"
   ]
  },
  {
   "cell_type": "code",
   "execution_count": 67,
   "metadata": {
    "collapsed": true
   },
   "outputs": [],
   "source": [
    "accuracy = (predictions_optm == y_train).mean()"
   ]
  },
  {
   "cell_type": "code",
   "execution_count": 68,
   "metadata": {
    "scrolled": true
   },
   "outputs": [
    {
     "data": {
      "text/plain": [
       "0.649025069637883"
      ]
     },
     "execution_count": 68,
     "metadata": {},
     "output_type": "execute_result"
    }
   ],
   "source": [
    "accuracy"
   ]
  },
  {
   "cell_type": "code",
   "execution_count": null,
   "metadata": {
    "collapsed": true
   },
   "outputs": [],
   "source": []
  }
 ],
 "metadata": {
  "anaconda-cloud": {},
  "kernelspec": {
   "display_name": "Python 3 (ipykernel)",
   "language": "python",
   "name": "python3"
  },
  "language_info": {
   "codemirror_mode": {
    "name": "ipython",
    "version": 3
   },
   "file_extension": ".py",
   "mimetype": "text/x-python",
   "name": "python",
   "nbconvert_exporter": "python",
   "pygments_lexer": "ipython3",
   "version": "3.8.10"
  }
 },
 "nbformat": 4,
 "nbformat_minor": 2
}
